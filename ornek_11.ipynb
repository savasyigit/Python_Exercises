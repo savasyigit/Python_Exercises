{
 "cells": [
  {
   "cell_type": "markdown",
   "id": "4beddada-5547-4433-b77a-9b45fc451d15",
   "metadata": {},
   "source": [
    "ÖRNEK 11: Nöbet programı hazırlayalım."
   ]
  },
  {
   "cell_type": "code",
   "execution_count": 3,
   "id": "698aadc0-cb7f-4629-a2cd-231828e07e7c",
   "metadata": {},
   "outputs": [
    {
     "name": "stdin",
     "output_type": "stream",
     "text": [
      "İşi ilk yaptığınız tarihi girin (YYYY-MM-DD):  2025-02-06\n",
      "Periyot (gün sayısı) girin:  3\n",
      "Kaç kere yapacağınızı girin:  10\n"
     ]
    },
    {
     "name": "stdout",
     "output_type": "stream",
     "text": [
      "İşi yapacağınız tarihler:\n",
      "2025-02-06\n",
      "2025-02-09\n",
      "2025-02-12\n",
      "2025-02-15\n",
      "2025-02-18\n",
      "2025-02-21\n",
      "2025-02-24\n",
      "2025-02-27\n",
      "2025-03-02\n",
      "2025-03-05\n"
     ]
    }
   ],
   "source": [
    "from datetime import datetime, timedelta\n",
    "\n",
    "def is_tarihlerini_hesapla(baslangic_tarihi, periyot, tekrar_sayisi):\n",
    "    tarih_listesi = [datetime.strptime(baslangic_tarihi, \"%Y-%m-%d\") + timedelta(days=i * periyot) for i in range(tekrar_sayisi)]\n",
    "    return [tarih.strftime(\"%Y-%m-%d\") for tarih in tarih_listesi]\n",
    "\n",
    "# Kullanıcıdan giriş almak\n",
    "baslangic_tarihi = input(\"İşi ilk yaptığınız tarihi girin (YYYY-MM-DD): \")\n",
    "periyot = int(input(\"Periyot (gün sayısı) girin: \"))\n",
    "tekrar_sayisi = int(input(\"Kaç kere yapacağınızı girin: \"))\n",
    "\n",
    "# Sonucu hesaplayıp ekrana yazdırma\n",
    "tarihler = is_tarihlerini_hesapla(baslangic_tarihi, periyot, tekrar_sayisi)\n",
    "print(\"İşi yapacağınız tarihler:\")\n",
    "for tarih in tarihler:\n",
    "    print(tarih)\n"
   ]
  },
  {
   "cell_type": "code",
   "execution_count": 5,
   "id": "1c1d8655-25cd-4d65-96d5-c9168a99d1af",
   "metadata": {},
   "outputs": [
    {
     "name": "stdin",
     "output_type": "stream",
     "text": [
      "İşi ilk yaptığınız tarihi girin (YYYY-MM-DD):  2025-02-06\n",
      "Periyot (gün sayısı) girin:  3\n",
      "Kaç kere yapacağınızı girin:  10\n"
     ]
    },
    {
     "name": "stdout",
     "output_type": "stream",
     "text": [
      "+------------+-----------+\n",
      "| Tarih      | Gün       |\n",
      "+============+===========+\n",
      "| 2025-02-06 | Thursday  |\n",
      "+------------+-----------+\n",
      "| 2025-02-09 | Sunday    |\n",
      "+------------+-----------+\n",
      "| 2025-02-12 | Wednesday |\n",
      "+------------+-----------+\n",
      "| 2025-02-15 | Saturday  |\n",
      "+------------+-----------+\n",
      "| 2025-02-18 | Tuesday   |\n",
      "+------------+-----------+\n",
      "| 2025-02-21 | Friday    |\n",
      "+------------+-----------+\n",
      "| 2025-02-24 | Monday    |\n",
      "+------------+-----------+\n",
      "| 2025-02-27 | Thursday  |\n",
      "+------------+-----------+\n",
      "| 2025-03-02 | Sunday    |\n",
      "+------------+-----------+\n",
      "| 2025-03-05 | Wednesday |\n",
      "+------------+-----------+\n"
     ]
    }
   ],
   "source": [
    "from datetime import datetime, timedelta\n",
    "from tabulate import tabulate\n",
    "\n",
    "def is_tarihlerini_hesapla(baslangic_tarihi, periyot, tekrar_sayisi):\n",
    "    tarih_listesi = [datetime.strptime(baslangic_tarihi, \"%Y-%m-%d\") + timedelta(days=i * periyot) for i in range(tekrar_sayisi)]\n",
    "    return [(tarih.strftime(\"%Y-%m-%d\"), tarih.strftime(\"%A\")) for tarih in tarih_listesi]\n",
    "\n",
    "# Kullanıcıdan giriş almak\n",
    "baslangic_tarihi = input(\"İşi ilk yaptığınız tarihi girin (YYYY-MM-DD): \")\n",
    "periyot = int(input(\"Periyot (gün sayısı) girin: \"))\n",
    "tekrar_sayisi = int(input(\"Kaç kere yapacağınızı girin: \"))\n",
    "\n",
    "# Sonucu hesaplayıp tablo olarak ekrana yazdırma\n",
    "tarihler = is_tarihlerini_hesapla(baslangic_tarihi, periyot, tekrar_sayisi)\n",
    "print(tabulate(tarihler, headers=[\"Tarih\", \"Gün\"], tablefmt=\"grid\"))\n"
   ]
  }
 ],
 "metadata": {
  "kernelspec": {
   "display_name": "Python 3 (ipykernel)",
   "language": "python",
   "name": "python3"
  },
  "language_info": {
   "codemirror_mode": {
    "name": "ipython",
    "version": 3
   },
   "file_extension": ".py",
   "mimetype": "text/x-python",
   "name": "python",
   "nbconvert_exporter": "python",
   "pygments_lexer": "ipython3",
   "version": "3.10.9"
  }
 },
 "nbformat": 4,
 "nbformat_minor": 5
}
