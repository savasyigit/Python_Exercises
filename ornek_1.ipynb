{
 "cells": [
  {
   "cell_type": "markdown",
   "id": "8525238b-5c3e-44cb-9873-0d0ff37d0f75",
   "metadata": {},
   "source": [
    "\n",
    "ÖRNEK: 1 ile verilen bir pozitif tamsayı arasındaki tamsayılardan sadece 3'e ,sadece 5'e ve hem 5'e hem de 3'e bölünebilen tamsayıları üç ayrı liste olarak veren python kodunu yazalım."
   ]
  },
  {
   "cell_type": "code",
   "execution_count": 13,
   "id": "12507046-1059-4dd0-99da-e5e07d54d9de",
   "metadata": {},
   "outputs": [
    {
     "name": "stdin",
     "output_type": "stream",
     "text": [
      "Pozitif bir tamsayı girin:  200\n"
     ]
    },
    {
     "name": "stdout",
     "output_type": "stream",
     "text": [
      "Sadece 3'e bölünebilenler: [3, 6, 9, 12, 18, 21, 24, 27, 33, 36, 39, 42, 48, 51, 54, 57, 63, 66, 69, 72, 78, 81, 84, 87, 93, 96, 99, 102, 108, 111, 114, 117, 123, 126, 129, 132, 138, 141, 144, 147, 153, 156, 159, 162, 168, 171, 174, 177, 183, 186, 189, 192, 198]\n",
      "----------------------------------------------------------------------------------------------------\n",
      "Sadece 5'e bölünebilenler: [5, 10, 20, 25, 35, 40, 50, 55, 65, 70, 80, 85, 95, 100, 110, 115, 125, 130, 140, 145, 155, 160, 170, 175, 185, 190, 200]\n",
      "----------------------------------------------------------------------------------------------------\n",
      "Hem 3'e hem 5'e bölünebilenler: [15, 30, 45, 60, 75, 90, 105, 120, 135, 150, 165, 180, 195]\n",
      "----------------------------------------------------------------------------------------------------\n"
     ]
    }
   ],
   "source": [
    "def bolunebilenleri_bul(n):\n",
    "    sadece_3e = []\n",
    "    sadece_5e = []\n",
    "    hem_3e_hem_5e = []\n",
    "    \n",
    "    for i in range(1, n+1):\n",
    "        if i % 3 == 0 and i % 5 == 0:\n",
    "            hem_3e_hem_5e.append(i)\n",
    "        elif i % 3 == 0:\n",
    "            sadece_3e.append(i)\n",
    "        elif i % 5 == 0:\n",
    "            sadece_5e.append(i)\n",
    "    \n",
    "    return sadece_3e, sadece_5e, hem_3e_hem_5e\n",
    "\n",
    "# Örnek kullanım\n",
    "n = int(input(\"Pozitif bir tamsayı girin: \"))\n",
    "sadece_3e, sadece_5e, hem_3e_hem_5e = bolunebilenleri_bul(n)\n",
    "\n",
    "print(\"Sadece 3'e bölünebilenler:\", sadece_3e)\n",
    "print(\"-\"*100)\n",
    "print(\"Sadece 5'e bölünebilenler:\", sadece_5e)\n",
    "print(\"-\"*100)\n",
    "print(\"Hem 3'e hem 5'e bölünebilenler:\", hem_3e_hem_5e)\n",
    "print(\"-\"*100)"
   ]
  },
  {
   "cell_type": "code",
   "execution_count": null,
   "id": "109722c8-1e6b-4665-ab56-92a9a32dffbc",
   "metadata": {},
   "outputs": [],
   "source": []
  }
 ],
 "metadata": {
  "kernelspec": {
   "display_name": "Python 3 (ipykernel)",
   "language": "python",
   "name": "python3"
  },
  "language_info": {
   "codemirror_mode": {
    "name": "ipython",
    "version": 3
   },
   "file_extension": ".py",
   "mimetype": "text/x-python",
   "name": "python",
   "nbconvert_exporter": "python",
   "pygments_lexer": "ipython3",
   "version": "3.10.9"
  }
 },
 "nbformat": 4,
 "nbformat_minor": 5
}
