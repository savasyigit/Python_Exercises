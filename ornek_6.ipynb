{
 "cells": [
  {
   "cell_type": "markdown",
   "id": "df09c75a-175e-4c46-9e52-3cd47b296352",
   "metadata": {},
   "source": [
    "ÖRNEK 6: 4 dersin başarı ortalamasını hesaplayan kod."
   ]
  },
  {
   "cell_type": "code",
   "execution_count": 2,
   "id": "ae4c587e-bb50-480b-9950-ac4cfb10deff",
   "metadata": {},
   "outputs": [
    {
     "name": "stdout",
     "output_type": "stream",
     "text": [
      "Ders 1 için notları girin:\n"
     ]
    },
    {
     "name": "stdin",
     "output_type": "stream",
     "text": [
      "Vize 1 notunu girin:  10\n",
      "Vize 2 notunu girin:  50\n",
      "Final notunu girin:  70\n"
     ]
    },
    {
     "name": "stdout",
     "output_type": "stream",
     "text": [
      "Ders 1 Geçme Notu: 52.00, Başarı Durumu: Geçer\n",
      "\n",
      "Ders 2 için notları girin:\n"
     ]
    },
    {
     "name": "stdin",
     "output_type": "stream",
     "text": [
      "Vize 1 notunu girin:  80\n",
      "Vize 2 notunu girin:  50\n",
      "Final notunu girin:  65\n"
     ]
    },
    {
     "name": "stdout",
     "output_type": "stream",
     "text": [
      "Ders 2 Geçme Notu: 63.50, Başarı Durumu: İyi\n",
      "\n",
      "Ders 3 için notları girin:\n"
     ]
    },
    {
     "name": "stdin",
     "output_type": "stream",
     "text": [
      "Vize 1 notunu girin:  10\n",
      "Vize 2 notunu girin:  58\n",
      "Final notunu girin:  68\n"
     ]
    },
    {
     "name": "stdout",
     "output_type": "stream",
     "text": [
      "Ders 3 Geçme Notu: 53.40, Başarı Durumu: Geçer\n",
      "\n",
      "Ders 4 için notları girin:\n"
     ]
    },
    {
     "name": "stdin",
     "output_type": "stream",
     "text": [
      "Vize 1 notunu girin:  45\n",
      "Vize 2 notunu girin:  85\n",
      "Final notunu girin:  35\n"
     ]
    },
    {
     "name": "stdout",
     "output_type": "stream",
     "text": [
      "Ders 4 Geçme Notu: 52.00, Başarı Durumu: Geçer\n",
      "\n",
      "Genel Ortalama: 55.23, Genel Başarı Durumu: Geçer\n"
     ]
    }
   ],
   "source": [
    "def hesapla_gecme_notu(vize1, vize2, final):\n",
    "    gecme_notu = (vize1 * 0.20) + (vize2 * 0.30) + (final * 0.50)\n",
    "    \n",
    "    if gecme_notu < 35:\n",
    "        durum = \"Başarısız\"\n",
    "    elif 35 <= gecme_notu < 50:\n",
    "        durum = \"Koşullu\"\n",
    "    elif 50 <= gecme_notu < 60:\n",
    "        durum = \"Geçer\"\n",
    "    elif 60 <= gecme_notu < 80:\n",
    "        durum = \"İyi\"\n",
    "    elif 80 <= gecme_notu <= 100:\n",
    "        durum = \"Pekiyi\"\n",
    "    else:\n",
    "        durum = \"Geçersiz not\"\n",
    "    \n",
    "    return gecme_notu, durum\n",
    "\n",
    "ders_sayisi = 4\n",
    "genel_toplam = 0\n",
    "\n",
    "for i in range(1, ders_sayisi + 1):\n",
    "    print(f\"Ders {i} için notları girin:\")\n",
    "    vize1 = float(input(\"Vize 1 notunu girin: \"))\n",
    "    vize2 = float(input(\"Vize 2 notunu girin: \"))\n",
    "    final = float(input(\"Final notunu girin: \"))\n",
    "    \n",
    "    sonuc, durum = hesapla_gecme_notu(vize1, vize2, final)\n",
    "    genel_toplam += sonuc\n",
    "    \n",
    "    print(f\"Ders {i} Geçme Notu: {sonuc:.2f}, Başarı Durumu: {durum}\\n\")\n",
    "\n",
    "ortalama = genel_toplam / ders_sayisi\n",
    "\n",
    "if ortalama < 35:\n",
    "    genel_durum = \"Başarısız\"\n",
    "elif 35 <= ortalama < 50:\n",
    "    genel_durum = \"Koşullu\"\n",
    "elif 50 <= ortalama < 60:\n",
    "    genel_durum = \"Geçer\"\n",
    "elif 60 <= ortalama < 80:\n",
    "    genel_durum = \"İyi\"\n",
    "elif 80 <= ortalama <= 100:\n",
    "    genel_durum = \"Pekiyi\"\n",
    "else:\n",
    "    genel_durum = \"Geçersiz not\"\n",
    "\n",
    "print(f\"Genel Ortalama: {ortalama:.2f}, Genel Başarı Durumu: {genel_durum}\")\n"
   ]
  },
  {
   "cell_type": "markdown",
   "id": "3215cd34-19f7-4cb7-99c0-0cedeaf718ce",
   "metadata": {},
   "source": [
    "-----SONUÇLARI TABLO ŞEKLİNDE ALALIM------"
   ]
  },
  {
   "cell_type": "code",
   "execution_count": 5,
   "id": "c92ce736-6465-4fc2-bc67-bbd582a125db",
   "metadata": {},
   "outputs": [
    {
     "name": "stdout",
     "output_type": "stream",
     "text": [
      "Analiz dersi için notları girin:\n"
     ]
    },
    {
     "name": "stdin",
     "output_type": "stream",
     "text": [
      "Vize 1 notunu girin:  50\n",
      "Vize 2 notunu girin:  20\n",
      "Final notunu girin:  60\n"
     ]
    },
    {
     "name": "stdout",
     "output_type": "stream",
     "text": [
      "Diferansiyel Denklemler dersi için notları girin:\n"
     ]
    },
    {
     "name": "stdin",
     "output_type": "stream",
     "text": [
      "Vize 1 notunu girin:  80\n",
      "Vize 2 notunu girin:  60\n",
      "Final notunu girin:  70\n"
     ]
    },
    {
     "name": "stdout",
     "output_type": "stream",
     "text": [
      "Analitik Geometri dersi için notları girin:\n"
     ]
    },
    {
     "name": "stdin",
     "output_type": "stream",
     "text": [
      "Vize 1 notunu girin:  50\n",
      "Vize 2 notunu girin:  40\n",
      "Final notunu girin:  70\n"
     ]
    },
    {
     "name": "stdout",
     "output_type": "stream",
     "text": [
      "Olasılık dersi için notları girin:\n"
     ]
    },
    {
     "name": "stdin",
     "output_type": "stream",
     "text": [
      "Vize 1 notunu girin:  45\n",
      "Vize 2 notunu girin:  55\n",
      "Final notunu girin:  80\n"
     ]
    },
    {
     "name": "stdout",
     "output_type": "stream",
     "text": [
      "+-------------------------+--------------+-----------------+\n",
      "| Ders                    |   Geçme Notu | Başarı Durumu   |\n",
      "+=========================+==============+=================+\n",
      "| Analiz                  |         46   | Koşullu         |\n",
      "+-------------------------+--------------+-----------------+\n",
      "| Diferansiyel Denklemler |         69   | İyi             |\n",
      "+-------------------------+--------------+-----------------+\n",
      "| Analitik Geometri       |         57   | Geçer           |\n",
      "+-------------------------+--------------+-----------------+\n",
      "| Olasılık                |         65.5 | İyi             |\n",
      "+-------------------------+--------------+-----------------+\n",
      "\n",
      "Genel Sonuç:\n",
      "+----------------+---------+-----------------+\n",
      "| Kriter         |   Değer | Başarı Durumu   |\n",
      "+================+=========+=================+\n",
      "| Genel Ortalama |  59.375 | Geçer           |\n",
      "+----------------+---------+-----------------+\n"
     ]
    }
   ],
   "source": [
    "from tabulate import tabulate\n",
    "\n",
    "def hesapla_gecme_notu(vize1, vize2, final):\n",
    "    gecme_notu = (vize1 * 0.20) + (vize2 * 0.30) + (final * 0.50)\n",
    "    \n",
    "    if gecme_notu < 35:\n",
    "        durum = \"Başarısız\"\n",
    "    elif 35 <= gecme_notu < 50:\n",
    "        durum = \"Koşullu\"\n",
    "    elif 50 <= gecme_notu < 60:\n",
    "        durum = \"Geçer\"\n",
    "    elif 60 <= gecme_notu < 80:\n",
    "        durum = \"İyi\"\n",
    "    elif 80 <= gecme_notu <= 100:\n",
    "        durum = \"Pekiyi\"\n",
    "    else:\n",
    "        durum = \"Geçersiz not\"\n",
    "    \n",
    "    return gecme_notu, durum\n",
    "\n",
    "dersler = [\"Analiz\", \"Diferansiyel Denklemler\", \"Analitik Geometri\", \"Olasılık\"]\n",
    "genel_toplam = 0\n",
    "sonuclar = []\n",
    "\n",
    "for ders in dersler:\n",
    "    print(f\"{ders} dersi için notları girin:\")\n",
    "    vize1 = float(input(\"Vize 1 notunu girin: \"))\n",
    "    vize2 = float(input(\"Vize 2 notunu girin: \"))\n",
    "    final = float(input(\"Final notunu girin: \"))\n",
    "    \n",
    "    sonuc, durum = hesapla_gecme_notu(vize1, vize2, final)\n",
    "    genel_toplam += sonuc\n",
    "    sonuclar.append([ders, sonuc, durum])\n",
    "\n",
    "tablo = tabulate(sonuclar, headers=[\"Ders\", \"Geçme Notu\", \"Başarı Durumu\"], tablefmt=\"grid\")\n",
    "print(tablo)\n",
    "\n",
    "ortalama = genel_toplam / len(dersler)\n",
    "\n",
    "if ortalama < 35:\n",
    "    genel_durum = \"Başarısız\"\n",
    "elif 35 <= ortalama < 50:\n",
    "    genel_durum = \"Koşullu\"\n",
    "elif 50 <= ortalama < 60:\n",
    "    genel_durum = \"Geçer\"\n",
    "elif 60 <= ortalama < 80:\n",
    "    genel_durum = \"İyi\"\n",
    "elif 80 <= ortalama <= 100:\n",
    "    genel_durum = \"Pekiyi\"\n",
    "else:\n",
    "    genel_durum = \"Geçersiz not\"\n",
    "\n",
    "print(\"\\nGenel Sonuç:\")\n",
    "print(tabulate([[\"Genel Ortalama\", ortalama, genel_durum]], headers=[\"Kriter\", \"Değer\", \"Başarı Durumu\"], tablefmt=\"grid\"))\n"
   ]
  },
  {
   "cell_type": "code",
   "execution_count": null,
   "id": "7352b875-e623-4368-ab95-fffa8aab1c26",
   "metadata": {},
   "outputs": [],
   "source": []
  }
 ],
 "metadata": {
  "kernelspec": {
   "display_name": "Python 3 (ipykernel)",
   "language": "python",
   "name": "python3"
  },
  "language_info": {
   "codemirror_mode": {
    "name": "ipython",
    "version": 3
   },
   "file_extension": ".py",
   "mimetype": "text/x-python",
   "name": "python",
   "nbconvert_exporter": "python",
   "pygments_lexer": "ipython3",
   "version": "3.10.9"
  }
 },
 "nbformat": 4,
 "nbformat_minor": 5
}
