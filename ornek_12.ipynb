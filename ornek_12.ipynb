{
 "cells": [
  {
   "cell_type": "markdown",
   "id": "6a157ae6-c9e3-4d08-9485-1c9bc8494820",
   "metadata": {},
   "source": [
    "ÖRNEK 12 : Birden fazla kişinin çalışma programını hazırlayalım."
   ]
  },
  {
   "cell_type": "code",
   "execution_count": 1,
   "id": "51a1ed3b-8b59-44f0-9542-9112bcab4098",
   "metadata": {},
   "outputs": [
    {
     "name": "stdin",
     "output_type": "stream",
     "text": [
      "Kaç kişi için hesaplama yapacaksınız?  2\n"
     ]
    },
    {
     "name": "stdout",
     "output_type": "stream",
     "text": [
      "Kişi 1 için giriş yapın:\n"
     ]
    },
    {
     "name": "stdin",
     "output_type": "stream",
     "text": [
      "İşi ilk yaptığınız tarihi girin (YYYY-MM-DD):  2025-02-06\n",
      "Periyot (gün sayısı) girin:  3\n",
      "Kaç kere yapacağınızı girin:  10\n"
     ]
    },
    {
     "name": "stdout",
     "output_type": "stream",
     "text": [
      "Kişi 2 için giriş yapın:\n"
     ]
    },
    {
     "name": "stdin",
     "output_type": "stream",
     "text": [
      "İşi ilk yaptığınız tarihi girin (YYYY-MM-DD):  2025-02-08\n",
      "Periyot (gün sayısı) girin:  5\n",
      "Kaç kere yapacağınızı girin:  15\n"
     ]
    },
    {
     "name": "stdout",
     "output_type": "stream",
     "text": [
      "\n",
      "Kişi 1 için İş Takvimi:\n",
      "+------------+-----------+\n",
      "| Tarih      | Gün       |\n",
      "+============+===========+\n",
      "| 2025-02-06 | Thursday  |\n",
      "+------------+-----------+\n",
      "| 2025-02-09 | Sunday    |\n",
      "+------------+-----------+\n",
      "| 2025-02-12 | Wednesday |\n",
      "+------------+-----------+\n",
      "| 2025-02-15 | Saturday  |\n",
      "+------------+-----------+\n",
      "| 2025-02-18 | Tuesday   |\n",
      "+------------+-----------+\n",
      "| 2025-02-21 | Friday    |\n",
      "+------------+-----------+\n",
      "| 2025-02-24 | Monday    |\n",
      "+------------+-----------+\n",
      "| 2025-02-27 | Thursday  |\n",
      "+------------+-----------+\n",
      "| 2025-03-02 | Sunday    |\n",
      "+------------+-----------+\n",
      "| 2025-03-05 | Wednesday |\n",
      "+------------+-----------+\n",
      "\n",
      "Kişi 2 için İş Takvimi:\n",
      "+------------+-----------+\n",
      "| Tarih      | Gün       |\n",
      "+============+===========+\n",
      "| 2025-02-08 | Saturday  |\n",
      "+------------+-----------+\n",
      "| 2025-02-13 | Thursday  |\n",
      "+------------+-----------+\n",
      "| 2025-02-18 | Tuesday   |\n",
      "+------------+-----------+\n",
      "| 2025-02-23 | Sunday    |\n",
      "+------------+-----------+\n",
      "| 2025-02-28 | Friday    |\n",
      "+------------+-----------+\n",
      "| 2025-03-05 | Wednesday |\n",
      "+------------+-----------+\n",
      "| 2025-03-10 | Monday    |\n",
      "+------------+-----------+\n",
      "| 2025-03-15 | Saturday  |\n",
      "+------------+-----------+\n",
      "| 2025-03-20 | Thursday  |\n",
      "+------------+-----------+\n",
      "| 2025-03-25 | Tuesday   |\n",
      "+------------+-----------+\n",
      "| 2025-03-30 | Sunday    |\n",
      "+------------+-----------+\n",
      "| 2025-04-04 | Friday    |\n",
      "+------------+-----------+\n",
      "| 2025-04-09 | Wednesday |\n",
      "+------------+-----------+\n",
      "| 2025-04-14 | Monday    |\n",
      "+------------+-----------+\n",
      "| 2025-04-19 | Saturday  |\n",
      "+------------+-----------+\n",
      "\n",
      "Ortak Yapılan Günler:\n",
      "+------------+----------------+\n",
      "| Tarih      | Kişiler        |\n",
      "+============+================+\n",
      "| 2025-02-18 | Kişi 1, Kişi 2 |\n",
      "+------------+----------------+\n",
      "| 2025-03-05 | Kişi 1, Kişi 2 |\n",
      "+------------+----------------+\n"
     ]
    }
   ],
   "source": [
    "from datetime import datetime, timedelta\n",
    "from tabulate import tabulate\n",
    "from collections import defaultdict\n",
    "\n",
    "def is_tarihlerini_hesapla(baslangic_tarihi, periyot, tekrar_sayisi):\n",
    "    tarih_listesi = [datetime.strptime(baslangic_tarihi, \"%Y-%m-%d\") + timedelta(days=i * periyot) for i in range(tekrar_sayisi)]\n",
    "    return [(tarih.strftime(\"%Y-%m-%d\"), tarih.strftime(\"%A\")) for tarih in tarih_listesi]\n",
    "\n",
    "def ortak_tarihleri_bul(kisiler):\n",
    "    tarih_dict = defaultdict(list)\n",
    "    for kisi, tarihler in kisiler.items():\n",
    "        for tarih, _ in tarihler:\n",
    "            tarih_dict[tarih].append(kisi)\n",
    "    ortak_tarihler = {tarih: kisi_list for tarih, kisi_list in tarih_dict.items() if len(kisi_list) > 1}\n",
    "    return ortak_tarihler\n",
    "\n",
    "# Kullanıcıdan giriş almak\n",
    "kisi_sayisi = int(input(\"Kaç kişi için hesaplama yapacaksınız? \"))\n",
    "kisiler = {}\n",
    "\n",
    "for i in range(1, kisi_sayisi + 1):\n",
    "    print(f\"Kişi {i} için giriş yapın:\")\n",
    "    baslangic_tarihi = input(\"İşi ilk yaptığınız tarihi girin (YYYY-MM-DD): \")\n",
    "    periyot = int(input(\"Periyot (gün sayısı) girin: \"))\n",
    "    tekrar_sayisi = int(input(\"Kaç kere yapacağınızı girin: \"))\n",
    "    kisiler[f\"Kişi {i}\"] = is_tarihlerini_hesapla(baslangic_tarihi, periyot, tekrar_sayisi)\n",
    "\n",
    "# Her kişi için ayrı tablo gösterme\n",
    "for kisi, tarihler in kisiler.items():\n",
    "    print(f\"\\n{kisi} için İş Takvimi:\")\n",
    "    print(tabulate(tarihler, headers=[\"Tarih\", \"Gün\"], tablefmt=\"grid\"))\n",
    "\n",
    "# Ortak yapılan günleri bulma\n",
    "ortak_tarihler = ortak_tarihleri_bul(kisiler)\n",
    "\n",
    "if ortak_tarihler:\n",
    "    print(\"\\nOrtak Yapılan Günler:\")\n",
    "    ortak_tablo = [[tarih, \", \".join(kisiler)] for tarih, kisiler in ortak_tarihler.items()]\n",
    "    print(tabulate(ortak_tablo, headers=[\"Tarih\", \"Kişiler\"], tablefmt=\"grid\"))\n",
    "else:\n",
    "    print(\"\\nHiçbir gün ortak olarak yapılmamıştır.\")\n"
   ]
  },
  {
   "cell_type": "code",
   "execution_count": null,
   "id": "086919b4-c54e-431b-8d12-a1306cc5c0bd",
   "metadata": {},
   "outputs": [],
   "source": []
  }
 ],
 "metadata": {
  "kernelspec": {
   "display_name": "Python 3 (ipykernel)",
   "language": "python",
   "name": "python3"
  },
  "language_info": {
   "codemirror_mode": {
    "name": "ipython",
    "version": 3
   },
   "file_extension": ".py",
   "mimetype": "text/x-python",
   "name": "python",
   "nbconvert_exporter": "python",
   "pygments_lexer": "ipython3",
   "version": "3.10.9"
  }
 },
 "nbformat": 4,
 "nbformat_minor": 5
}
