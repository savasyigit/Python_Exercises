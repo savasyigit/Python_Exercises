{
 "cells": [
  {
   "cell_type": "markdown",
   "id": "9a594267-96d9-4ca9-9816-652aaa4a27f7",
   "metadata": {},
   "source": [
    "ÖRNEK 5: Bir desten geçme notu ve başarı durumu hesaplayan kod"
   ]
  },
  {
   "cell_type": "code",
   "execution_count": 4,
   "id": "22d490dc-4c04-48f9-b57b-540ba9c02d5b",
   "metadata": {},
   "outputs": [
    {
     "name": "stdin",
     "output_type": "stream",
     "text": [
      "Vize 1 notunu girin:  50\n",
      "Vize 2 notunu girin:  60\n",
      "Final notunu girin:  90\n"
     ]
    },
    {
     "name": "stdout",
     "output_type": "stream",
     "text": [
      "Geçme notunuz: 73.00\n",
      "İyi\n"
     ]
    }
   ],
   "source": [
    "def hesapla_gecme_notu(vize1, vize2, final):\n",
    "    gecme_notu = (vize1 * 0.20) + (vize2 * 0.30) + (final * 0.50)\n",
    "    return gecme_notu\n",
    "\n",
    "# Kullanıcıdan notları al\n",
    "vize1 = float(input(\"Vize 1 notunu girin: \"))\n",
    "vize2 = float(input(\"Vize 2 notunu girin: \"))\n",
    "final = float(input(\"Final notunu girin: \"))\n",
    "\n",
    "# Geçme notunu hesapla ve ekrana yazdır\n",
    "sonuc = hesapla_gecme_notu(vize1, vize2, final)\n",
    "print(f\"Geçme notunuz: {sonuc:.2f}\")\n",
    "\n",
    "# Başarı durumunu belirle\n",
    "if sonuc < 35:\n",
    "    print(\"Başarısız\")\n",
    "elif 35 <= sonuc < 50:\n",
    "    print(\"Koşullu\")\n",
    "elif 50 <= sonuc < 60:\n",
    "    print(\"Geçer\")\n",
    "elif 60 <= sonuc < 80:\n",
    "    print(\"İyi\")\n",
    "elif 80 <= sonuc <= 100:\n",
    "    print(\"Pekiyi\")\n"
   ]
  },
  {
   "cell_type": "markdown",
   "id": "c1d8aafd-c963-4d55-bc1a-e5fe076b0790",
   "metadata": {},
   "source": [
    "-----Alternatif kod.-----"
   ]
  },
  {
   "cell_type": "code",
   "execution_count": 7,
   "id": "aa118192-7c01-4997-ba3c-5c2db1d61bc8",
   "metadata": {},
   "outputs": [
    {
     "name": "stdin",
     "output_type": "stream",
     "text": [
      "Vize 1 notunu girin:  80\n",
      "Vize 2 notunu girin:  90\n",
      "Final notunu girin:  40\n"
     ]
    },
    {
     "name": "stdout",
     "output_type": "stream",
     "text": [
      "Geçme notunuz: 63.00, Başarı durumu: İyi\n"
     ]
    }
   ],
   "source": [
    "def hesapla_gecme_notu(vize1, vize2, final):\n",
    "    gecme_notu = (vize1 * 0.20) + (vize2 * 0.30) + (final * 0.50)\n",
    "    \n",
    "    if gecme_notu < 35:\n",
    "        durum = \"Başarısız\"\n",
    "    elif 35 <= gecme_notu < 50:\n",
    "        durum = \"Koşullu\"\n",
    "    elif 50 <= gecme_notu < 60:\n",
    "        durum = \"Geçer\"\n",
    "    elif 60 <= gecme_notu < 80:\n",
    "        durum = \"İyi\"\n",
    "    elif 80 <= gecme_notu <= 100:\n",
    "        durum = \"Pekiyi\"\n",
    "    else:\n",
    "        durum = \"Geçersiz not\"\n",
    "    \n",
    "    return gecme_notu, durum\n",
    "\n",
    "# Kullanıcıdan notları al\n",
    "vize1 = float(input(\"Vize 1 notunu girin: \"))\n",
    "vize2 = float(input(\"Vize 2 notunu girin: \"))\n",
    "final = float(input(\"Final notunu girin: \"))\n",
    "\n",
    "# Geçme notunu hesapla ve ekrana yazdır\n",
    "sonuc, durum = hesapla_gecme_notu(vize1, vize2, final)\n",
    "print(f\"Geçme notunuz: {sonuc:.2f}, Başarı durumu: {durum}\")\n"
   ]
  },
  {
   "cell_type": "code",
   "execution_count": null,
   "id": "1f380838-b387-4382-86bf-cceb44a127d4",
   "metadata": {},
   "outputs": [],
   "source": []
  }
 ],
 "metadata": {
  "kernelspec": {
   "display_name": "Python 3 (ipykernel)",
   "language": "python",
   "name": "python3"
  },
  "language_info": {
   "codemirror_mode": {
    "name": "ipython",
    "version": 3
   },
   "file_extension": ".py",
   "mimetype": "text/x-python",
   "name": "python",
   "nbconvert_exporter": "python",
   "pygments_lexer": "ipython3",
   "version": "3.10.9"
  }
 },
 "nbformat": 4,
 "nbformat_minor": 5
}
