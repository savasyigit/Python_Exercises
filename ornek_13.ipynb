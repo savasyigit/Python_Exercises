{
 "cells": [
  {
   "cell_type": "markdown",
   "id": "8e2deb69-5d49-40e1-836d-0f4c04986b8e",
   "metadata": {},
   "source": [
    "ÖRNEK 13:Alışveriş sepeti hazırlayan kod."
   ]
  },
  {
   "cell_type": "code",
   "execution_count": 3,
   "id": "40b80a20-9a38-47ec-b285-ee34ac5e1e70",
   "metadata": {},
   "outputs": [
    {
     "name": "stdout",
     "output_type": "stream",
     "text": [
      "Elma sepete eklendi.\n",
      "Muz sepete eklendi.\n",
      "Çilek sepete eklendi.\n",
      "Sepetinizdeki ürünler: Elma, Muz, Çilek\n",
      "Ürünler alfabetik sıraya dizildi.\n",
      "Sepetinizdeki ürünler: Elma, Muz, Çilek\n",
      "Muz sepetinizde mevcut.\n",
      "Elma sepetten çıkarıldı.\n",
      "Sepetinizdeki ürünler: Muz, Çilek\n",
      "Sepetiniz ters çevrildi.\n",
      "Sepetinizdeki ürünler: Çilek, Muz\n"
     ]
    }
   ],
   "source": [
    "def urun_ekle(sepet, urun):\n",
    "    \"\"\"Ürün ekleme\"\"\"\n",
    "    sepet.append(urun)\n",
    "    print(f\"{urun} sepete eklendi.\")\n",
    "\n",
    "def urun_cikar(sepet, urun):\n",
    "    \"\"\"Ürün çıkarma\"\"\"\n",
    "    if urun in sepet:\n",
    "        sepet.remove(urun)\n",
    "        print(f\"{urun} sepetten çıkarıldı.\")\n",
    "    else:\n",
    "        print(f\"{urun} sepette bulunamadı.\")\n",
    "\n",
    "def sepet_goruntule(sepet):\n",
    "    \"\"\"Sepetteki ürünleri listeleme\"\"\"\n",
    "    if sepet:\n",
    "        print(\"Sepetinizdeki ürünler:\", \", \".join(sepet))\n",
    "    else:\n",
    "        print(\"Sepetiniz boş.\")\n",
    "\n",
    "def urun_sirala(sepet):\n",
    "    \"\"\"Ürünleri alfabetik sıraya koyma\"\"\"\n",
    "    sepet.sort()\n",
    "    print(\"Ürünler alfabetik sıraya dizildi.\")\n",
    "\n",
    "def urun_ara(sepet, urun):\n",
    "    \"\"\"Ürün arama\"\"\"\n",
    "    if urun in sepet:\n",
    "        print(f\"{urun} sepetinizde mevcut.\")\n",
    "    else:\n",
    "        print(f\"{urun} sepette bulunamadı.\")\n",
    "\n",
    "def urun_ters_cevir(sepet):\n",
    "    \"\"\"Listeyi ters çevirme\"\"\"\n",
    "    sepet.reverse()\n",
    "    print(\"Sepetiniz ters çevrildi.\")\n",
    "\n",
    "# Kullanım\n",
    "sepet = []\n",
    "urun_ekle(sepet, \"Elma\")\n",
    "urun_ekle(sepet, \"Muz\")\n",
    "urun_ekle(sepet, \"Çilek\")\n",
    "sepet_goruntule(sepet)\n",
    "urun_sirala(sepet)\n",
    "sepet_goruntule(sepet)\n",
    "urun_ara(sepet, \"Muz\")\n",
    "urun_cikar(sepet, \"Elma\")\n",
    "sepet_goruntule(sepet)\n",
    "urun_ters_cevir(sepet)\n",
    "sepet_goruntule(sepet)\n"
   ]
  },
  {
   "cell_type": "code",
   "execution_count": 5,
   "id": "58848d36-4026-4667-a7e3-27605401ba7f",
   "metadata": {},
   "outputs": [
    {
     "name": "stdout",
     "output_type": "stream",
     "text": [
      "ekmek sepete eklendi.\n"
     ]
    }
   ],
   "source": [
    "sepet = []\n",
    "urun_ekle(sepet,\"ekmek\")"
   ]
  },
  {
   "cell_type": "code",
   "execution_count": 7,
   "id": "b5886e99-77c3-4022-b049-e70618014ed1",
   "metadata": {},
   "outputs": [
    {
     "name": "stdout",
     "output_type": "stream",
     "text": [
      "yoğurt sepete eklendi.\n"
     ]
    }
   ],
   "source": [
    "urun_ekle(sepet,\"yoğurt\")"
   ]
  },
  {
   "cell_type": "code",
   "execution_count": 9,
   "id": "8e51ef23-e59f-45c7-ad93-e8bb5e27ed4e",
   "metadata": {},
   "outputs": [
    {
     "name": "stdout",
     "output_type": "stream",
     "text": [
      "Sepetinizdeki ürünler: ekmek, yoğurt\n"
     ]
    }
   ],
   "source": [
    "sepet_goruntule(sepet)"
   ]
  },
  {
   "cell_type": "code",
   "execution_count": null,
   "id": "2e44757a-f1f7-4f87-9de5-98acbdff9a02",
   "metadata": {},
   "outputs": [],
   "source": []
  }
 ],
 "metadata": {
  "kernelspec": {
   "display_name": "Python 3 (ipykernel)",
   "language": "python",
   "name": "python3"
  },
  "language_info": {
   "codemirror_mode": {
    "name": "ipython",
    "version": 3
   },
   "file_extension": ".py",
   "mimetype": "text/x-python",
   "name": "python",
   "nbconvert_exporter": "python",
   "pygments_lexer": "ipython3",
   "version": "3.10.9"
  }
 },
 "nbformat": 4,
 "nbformat_minor": 5
}
