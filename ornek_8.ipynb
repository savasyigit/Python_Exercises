{
 "cells": [
  {
   "cell_type": "markdown",
   "id": "89e38047-b834-4b0d-9522-e5f653c7691a",
   "metadata": {},
   "source": [
    "ÖRNEK 8: Verilen bir sayının\n",
    "    pozitif bölenlerini,\n",
    "    asal bölenlerini,\n",
    "    çift bölenlerini,\n",
    "    tek bölenlerini,\n",
    "    negatif bölenlerini,\n",
    "    3'e bölünen bölenlerini veren kodu yazalım."
   ]
  },
  {
   "cell_type": "code",
   "execution_count": 2,
   "id": "32d83aad-0565-41a8-a980-539e5297d283",
   "metadata": {},
   "outputs": [
    {
     "name": "stdin",
     "output_type": "stream",
     "text": [
      "Bir sayı girin:  500\n"
     ]
    },
    {
     "name": "stdout",
     "output_type": "stream",
     "text": [
      "500 sayısının pozitif tam sayı bölenleri: [1, 2, 4, 5, 10, 20, 25, 50, 100, 125, 250, 500]\n",
      "500 sayısının asal bölenleri: [2, 5]\n",
      "500 sayısının çift bölenleri: [2, 4, 10, 20, 50, 100, 250, 500]\n",
      "500 sayısının tek bölenleri: [1, 5, 25, 125]\n",
      "500 sayısının negatif bölenleri: [-1, -2, -4, -5, -10, -20, -25, -50, -100, -125, -250, -500]\n",
      "500 sayısının 3'ün katı olan pozitif bölenleri: []\n"
     ]
    }
   ],
   "source": [
    "def pozitif_tamsayi_bolenler(n):\n",
    "    bolenler = [i for i in range(1, n + 1) if n % i == 0]\n",
    "    return bolenler\n",
    "\n",
    "def asal_bolenler(n):\n",
    "    bolenler = pozitif_tamsayi_bolenler(n)\n",
    "    asal_bolenler = [i for i in bolenler if all(i % j != 0 for j in range(2, int(i ** 0.5) + 1)) and i > 1]\n",
    "    return asal_bolenler\n",
    "\n",
    "def cift_bolenler(n):\n",
    "    return [i for i in pozitif_tamsayi_bolenler(n) if i % 2 == 0]\n",
    "\n",
    "def tek_bolenler(n):\n",
    "    return [i for i in pozitif_tamsayi_bolenler(n) if i % 2 != 0]\n",
    "\n",
    "def negatif_bolenler(n):\n",
    "    return [-i for i in pozitif_tamsayi_bolenler(n)]\n",
    "\n",
    "def uce_bolunenler(n):\n",
    "    return [i for i in pozitif_tamsayi_bolenler(n) if i % 3 == 0]\n",
    "\n",
    "# Kullanıcıdan giriş al\n",
    "sayi = int(input(\"Bir sayı girin: \"))\n",
    "\n",
    "# Bölenleri bul ve ekrana yazdır\n",
    "print(f\"{sayi} sayısının pozitif tam sayı bölenleri: {pozitif_tamsayi_bolenler(sayi)}\")\n",
    "print(f\"{sayi} sayısının asal bölenleri: {asal_bolenler(sayi)}\")\n",
    "print(f\"{sayi} sayısının çift bölenleri: {cift_bolenler(sayi)}\")\n",
    "print(f\"{sayi} sayısının tek bölenleri: {tek_bolenler(sayi)}\")\n",
    "print(f\"{sayi} sayısının negatif bölenleri: {negatif_bolenler(sayi)}\")\n",
    "print(f\"{sayi} sayısının 3'ün katı olan pozitif bölenleri: {uce_bolunenler(sayi)}\")\n"
   ]
  },
  {
   "cell_type": "code",
   "execution_count": 6,
   "id": "f37b7977-2a84-400f-a0bd-d7ffaf0ae25e",
   "metadata": {},
   "outputs": [
    {
     "data": {
      "text/plain": [
       "[2, 3, 5]"
      ]
     },
     "execution_count": 6,
     "metadata": {},
     "output_type": "execute_result"
    }
   ],
   "source": [
    "asal_bolenler(750)"
   ]
  },
  {
   "cell_type": "code",
   "execution_count": null,
   "id": "ac673d76-4296-4678-83c8-cce7551493e1",
   "metadata": {},
   "outputs": [],
   "source": []
  }
 ],
 "metadata": {
  "kernelspec": {
   "display_name": "Python 3 (ipykernel)",
   "language": "python",
   "name": "python3"
  },
  "language_info": {
   "codemirror_mode": {
    "name": "ipython",
    "version": 3
   },
   "file_extension": ".py",
   "mimetype": "text/x-python",
   "name": "python",
   "nbconvert_exporter": "python",
   "pygments_lexer": "ipython3",
   "version": "3.10.9"
  }
 },
 "nbformat": 4,
 "nbformat_minor": 5
}
