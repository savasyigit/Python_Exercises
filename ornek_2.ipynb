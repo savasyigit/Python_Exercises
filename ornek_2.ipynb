{
 "cells": [
  {
   "cell_type": "markdown",
   "id": "724360fb-25b1-47ab-a511-f0aa88cb0390",
   "metadata": {},
   "source": [
    "ÖRNEK 2: Kelime oyunu"
   ]
  },
  {
   "cell_type": "code",
   "execution_count": 2,
   "id": "57017a31-55c5-4be6-b272-26b411803128",
   "metadata": {},
   "outputs": [
    {
     "name": "stdout",
     "output_type": "stream",
     "text": [
      "🎯 Kelime Tahmin Oyununa Hoş Geldin!\n",
      "Seçilen kelime 6 harften oluşuyor.\n",
      "\n",
      "Kelimeni tahmin et: _ _ _ _ _ _\n"
     ]
    },
    {
     "name": "stdin",
     "output_type": "stream",
     "text": [
      "Bir harf tahmin et:  a\n"
     ]
    },
    {
     "name": "stdout",
     "output_type": "stream",
     "text": [
      "✅ Doğru tahmin!\n",
      "\n",
      "Kelimeni tahmin et: a _ a _ _ _\n"
     ]
    },
    {
     "name": "stdin",
     "output_type": "stream",
     "text": [
      "Bir harf tahmin et:  k\n"
     ]
    },
    {
     "name": "stdout",
     "output_type": "stream",
     "text": [
      "❌ Yanlış tahmin! Kalan hakkın: 5\n",
      "\n",
      "Kelimeni tahmin et: a _ a _ _ _\n"
     ]
    },
    {
     "name": "stdin",
     "output_type": "stream",
     "text": [
      "Bir harf tahmin et:  t\n"
     ]
    },
    {
     "name": "stdout",
     "output_type": "stream",
     "text": [
      "❌ Yanlış tahmin! Kalan hakkın: 4\n",
      "\n",
      "Kelimeni tahmin et: a _ a _ _ _\n"
     ]
    },
    {
     "name": "stdin",
     "output_type": "stream",
     "text": [
      "Bir harf tahmin et:  b\n"
     ]
    },
    {
     "name": "stdout",
     "output_type": "stream",
     "text": [
      "❌ Yanlış tahmin! Kalan hakkın: 3\n",
      "\n",
      "Kelimeni tahmin et: a _ a _ _ _\n"
     ]
    },
    {
     "name": "stdin",
     "output_type": "stream",
     "text": [
      "Bir harf tahmin et:  l\n"
     ]
    },
    {
     "name": "stdout",
     "output_type": "stream",
     "text": [
      "✅ Doğru tahmin!\n",
      "\n",
      "Kelimeni tahmin et: a _ a l _ _\n"
     ]
    },
    {
     "name": "stdin",
     "output_type": "stream",
     "text": [
      "Bir harf tahmin et:  i\n"
     ]
    },
    {
     "name": "stdout",
     "output_type": "stream",
     "text": [
      "✅ Doğru tahmin!\n",
      "\n",
      "Kelimeni tahmin et: a _ a l i _\n"
     ]
    },
    {
     "name": "stdin",
     "output_type": "stream",
     "text": [
      "Bir harf tahmin et:  z\n"
     ]
    },
    {
     "name": "stdout",
     "output_type": "stream",
     "text": [
      "✅ Doğru tahmin!\n",
      "\n",
      "Kelimeni tahmin et: a _ a l i z\n"
     ]
    },
    {
     "name": "stdin",
     "output_type": "stream",
     "text": [
      "Bir harf tahmin et:  n\n"
     ]
    },
    {
     "name": "stdout",
     "output_type": "stream",
     "text": [
      "✅ Doğru tahmin!\n",
      "\n",
      "🎉 Tebrikler! Kelimeyi doğru tahmin ettin: analiz\n"
     ]
    }
   ],
   "source": [
    "import random\n",
    "\n",
    "# Kelime listesi\n",
    "kelimeler = [\"python\", \"matematik\", \"istatistik\", \"veri\", \"analiz\", \"bilgisayar\", \"kodlama\"]\n",
    "\n",
    "# Rastgele kelime seçimi\n",
    "secili_kelime = random.choice(kelimeler)\n",
    "kelime_uzunlugu = len(secili_kelime)\n",
    "\n",
    "# Kullanıcıya gösterilecek boşluklu kelime\n",
    "gorunen_kelime = [\"_\"] * kelime_uzunlugu\n",
    "tahmin_edilenler = []\n",
    "hak = 6  # Maksimum tahmin hakkı\n",
    "\n",
    "print(\"🎯 Kelime Tahmin Oyununa Hoş Geldin!\")\n",
    "print(\"Seçilen kelime\", kelime_uzunlugu, \"harften oluşuyor.\")\n",
    "\n",
    "# Oyun döngüsü\n",
    "while \"_\" in gorunen_kelime and hak > 0:\n",
    "    print(\"\\nKelimeni tahmin et:\", \" \".join(gorunen_kelime))\n",
    "    harf = input(\"Bir harf tahmin et: \").lower()\n",
    "\n",
    "    # Eğer harf daha önce tahmin edildiyse uyarı ver\n",
    "    if harf in tahmin_edilenler:\n",
    "        print(\"⚠ Bu harfi zaten tahmin ettin!\")\n",
    "        continue\n",
    "\n",
    "    # Harf tahmin listesine ekleniyor\n",
    "    tahmin_edilenler.append(harf)\n",
    "\n",
    "    # Harf kelimede var mı?\n",
    "    if harf in secili_kelime:\n",
    "        for i in range(kelime_uzunlugu):\n",
    "            if secili_kelime[i] == harf:\n",
    "                gorunen_kelime[i] = harf\n",
    "        print(\"✅ Doğru tahmin!\")\n",
    "    else:\n",
    "        hak -= 1\n",
    "        print(f\"❌ Yanlış tahmin! Kalan hakkın: {hak}\")\n",
    "\n",
    "# Oyun sonucu\n",
    "if \"_\" not in gorunen_kelime:\n",
    "    print(\"\\n🎉 Tebrikler! Kelimeyi doğru tahmin ettin:\", secili_kelime)\n",
    "else:\n",
    "    print(\"\\n😞 Maalesef kaybettin! Doğru kelime:\", secili_kelime)\n"
   ]
  },
  {
   "cell_type": "code",
   "execution_count": null,
   "id": "dcd68a6d-f8cf-41cb-b751-36b5e05ecab8",
   "metadata": {},
   "outputs": [],
   "source": []
  }
 ],
 "metadata": {
  "kernelspec": {
   "display_name": "Python 3 (ipykernel)",
   "language": "python",
   "name": "python3"
  },
  "language_info": {
   "codemirror_mode": {
    "name": "ipython",
    "version": 3
   },
   "file_extension": ".py",
   "mimetype": "text/x-python",
   "name": "python",
   "nbconvert_exporter": "python",
   "pygments_lexer": "ipython3",
   "version": "3.10.9"
  }
 },
 "nbformat": 4,
 "nbformat_minor": 5
}
