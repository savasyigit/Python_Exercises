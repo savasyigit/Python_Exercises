{
 "cells": [
  {
   "cell_type": "markdown",
   "id": "63e17abc-cb27-458a-a613-3940ef35ae60",
   "metadata": {},
   "source": [
    "ÖRNEK 4:Verilen bir listeden çift sayıları kaldıran kodu yazalım."
   ]
  },
  {
   "cell_type": "code",
   "execution_count": 12,
   "id": "b261285f-2de0-4d47-a538-257bab4ab7f8",
   "metadata": {},
   "outputs": [],
   "source": [
    "def ciftleri_kaldir(lst):\n",
    "    # Listedeki tek sayilari döndürelim.\n",
    "    return [number for number in lst if number % 2 != 0]\n",
    "\n",
    "\n",
    "def deneyelim():\n",
    "\n",
    "    listeler = [\n",
    "            [3, 4, 40, 31, 32],\n",
    "            [-5, -4, -6, -2, -3],\n",
    "            [-1, 2, 5, -4, -10],\n",
    "            [1],\n",
    "            [2, 4, 6, 8, 10],\n",
    "\n",
    "    ]\n",
    "\n",
    "    for i in range(len(listeler)):\n",
    "        print(i + 1, \".\\tVerilen liste: \", listeler[i], sep=\"\")\n",
    "        print(\"\\n\\tCikan liste: \", ciftleri_kaldir(listeler[i]), sep=\"\")\n",
    "        print(\"-\" * 100)\n",
    "\n"
   ]
  },
  {
   "cell_type": "code",
   "execution_count": 14,
   "id": "8d83712e-7e9b-4c56-be51-e1375075d963",
   "metadata": {},
   "outputs": [
    {
     "name": "stdout",
     "output_type": "stream",
     "text": [
      "1.\tVerilen liste: [3, 4, 40, 31, 32]\n",
      "\n",
      "\tCikan liste: [3, 31]\n",
      "----------------------------------------------------------------------------------------------------\n",
      "2.\tVerilen liste: [-5, -4, -6, -2, -3]\n",
      "\n",
      "\tCikan liste: [-5, -3]\n",
      "----------------------------------------------------------------------------------------------------\n",
      "3.\tVerilen liste: [-1, 2, 5, -4, -10]\n",
      "\n",
      "\tCikan liste: [-1, 5]\n",
      "----------------------------------------------------------------------------------------------------\n",
      "4.\tVerilen liste: [1]\n",
      "\n",
      "\tCikan liste: [1]\n",
      "----------------------------------------------------------------------------------------------------\n",
      "5.\tVerilen liste: [2, 4, 6, 8, 10]\n",
      "\n",
      "\tCikan liste: []\n",
      "----------------------------------------------------------------------------------------------------\n"
     ]
    }
   ],
   "source": [
    "deneyelim()"
   ]
  },
  {
   "cell_type": "code",
   "execution_count": null,
   "id": "f53dfb89-0e63-4b48-95e0-84055ff7f867",
   "metadata": {},
   "outputs": [],
   "source": [
    "ciftleri_kaldir([i for i in range(10,65,3)])"
   ]
  }
 ],
 "metadata": {
  "kernelspec": {
   "display_name": "Python 3 (ipykernel)",
   "language": "python",
   "name": "python3"
  },
  "language_info": {
   "codemirror_mode": {
    "name": "ipython",
    "version": 3
   },
   "file_extension": ".py",
   "mimetype": "text/x-python",
   "name": "python",
   "nbconvert_exporter": "python",
   "pygments_lexer": "ipython3",
   "version": "3.10.9"
  }
 },
 "nbformat": 4,
 "nbformat_minor": 5
}
