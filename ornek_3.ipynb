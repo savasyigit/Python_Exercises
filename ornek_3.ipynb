{
 "cells": [
  {
   "cell_type": "markdown",
   "id": "2779dd42-57e1-42a0-8005-2ab0edc9d69b",
   "metadata": {},
   "source": [
    "ÖRNEK 3: Verilen iki sayının en büyük ortak bölenini bulalım."
   ]
  },
  {
   "cell_type": "code",
   "execution_count": 6,
   "id": "9d8e369d-fbe8-4aea-87d3-cc8b68908f39",
   "metadata": {},
   "outputs": [
    {
     "name": "stdin",
     "output_type": "stream",
     "text": [
      "İki pozitif tamsayı girin:  225 54\n"
     ]
    },
    {
     "name": "stdout",
     "output_type": "stream",
     "text": [
      "225 ve 54 sayılarının OBEB'i: 9\n"
     ]
    }
   ],
   "source": [
    "def obeb(a, b):\n",
    "    while b:\n",
    "        a, b = b, a % b\n",
    "    return a\n",
    "\n",
    "# Kullanıcıdan giriş alma\n",
    "sayi1, sayi2 = map(int, input(\"İki pozitif tamsayı girin: \").split())\n",
    "\n",
    "# OBEB hesaplama\n",
    "sonuc = obeb(sayi1, sayi2)\n",
    "\n",
    "print(f\"{sayi1} ve {sayi2} sayılarının OBEB'i: {sonuc}\")\n"
   ]
  },
  {
   "cell_type": "code",
   "execution_count": 8,
   "id": "ba61d197-c54a-42d7-926d-743a03b5da5f",
   "metadata": {},
   "outputs": [
    {
     "data": {
      "text/plain": [
       "5"
      ]
     },
     "execution_count": 8,
     "metadata": {},
     "output_type": "execute_result"
    }
   ],
   "source": [
    "obeb(25,165)"
   ]
  },
  {
   "cell_type": "code",
   "execution_count": null,
   "id": "264b53fe-dddd-4b25-a3b2-5beaaadc1e26",
   "metadata": {},
   "outputs": [],
   "source": []
  }
 ],
 "metadata": {
  "kernelspec": {
   "display_name": "Python 3 (ipykernel)",
   "language": "python",
   "name": "python3"
  },
  "language_info": {
   "codemirror_mode": {
    "name": "ipython",
    "version": 3
   },
   "file_extension": ".py",
   "mimetype": "text/x-python",
   "name": "python",
   "nbconvert_exporter": "python",
   "pygments_lexer": "ipython3",
   "version": "3.10.9"
  }
 },
 "nbformat": 4,
 "nbformat_minor": 5
}
