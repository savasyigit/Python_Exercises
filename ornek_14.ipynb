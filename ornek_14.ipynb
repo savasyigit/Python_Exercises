{
 "cells": [
  {
   "cell_type": "markdown",
   "id": "a021450f-ce51-4daf-b86e-958599051d4c",
   "metadata": {},
   "source": [
    "ÖRNEK 14: Fatura hazırlayan kod"
   ]
  },
  {
   "cell_type": "code",
   "execution_count": 2,
   "id": "17d0b5a6-3333-40ce-a31c-549001f8302d",
   "metadata": {},
   "outputs": [
    {
     "name": "stdin",
     "output_type": "stream",
     "text": [
      "Ürün adını girin (çıkış için 'q'):  ekmek\n",
      "Ürün adedini girin:  2\n",
      "Birim fiyatını girin:  10\n"
     ]
    },
    {
     "name": "stdout",
     "output_type": "stream",
     "text": [
      "ekmek (2 adet) sepete eklendi. Toplam: 20.00 TL\n"
     ]
    },
    {
     "name": "stdin",
     "output_type": "stream",
     "text": [
      "Ürün adını girin (çıkış için 'q'):  su\n",
      "Ürün adedini girin:  5\n",
      "Birim fiyatını girin:  15\n"
     ]
    },
    {
     "name": "stdout",
     "output_type": "stream",
     "text": [
      "su (5 adet) sepete eklendi. Toplam: 75.00 TL\n"
     ]
    },
    {
     "name": "stdin",
     "output_type": "stream",
     "text": [
      "Ürün adını girin (çıkış için 'q'):  peynir\n",
      "Ürün adedini girin:  6\n",
      "Birim fiyatını girin:  35\n"
     ]
    },
    {
     "name": "stdout",
     "output_type": "stream",
     "text": [
      "peynir (6 adet) sepete eklendi. Toplam: 210.00 TL\n"
     ]
    },
    {
     "name": "stdin",
     "output_type": "stream",
     "text": [
      "Ürün adını girin (çıkış için 'q'):  q\n"
     ]
    },
    {
     "name": "stdout",
     "output_type": "stream",
     "text": [
      "\n",
      "Sepetiniz:\n",
      "+--------+--------+---------------+-----------+\n",
      "| Ürün   |   Adet | Birim Fiyat   | Toplam    |\n",
      "+========+========+===============+===========+\n",
      "| ekmek  |      2 | 10.00 TL      | 20.00 TL  |\n",
      "+--------+--------+---------------+-----------+\n",
      "| su     |      5 | 15.00 TL      | 75.00 TL  |\n",
      "+--------+--------+---------------+-----------+\n",
      "| peynir |      6 | 35.00 TL      | 210.00 TL |\n",
      "+--------+--------+---------------+-----------+\n",
      "+----------------+-----------+\n",
      "| Açıklama       | Tutar     |\n",
      "+================+===========+\n",
      "| Genel Toplam   | 305.00 TL |\n",
      "+----------------+-----------+\n",
      "| Vergi (%8)     | 24.40 TL  |\n",
      "+----------------+-----------+\n",
      "| Ödenecek Tutar | 329.40 TL |\n",
      "+----------------+-----------+\n"
     ]
    }
   ],
   "source": [
    "from tabulate import tabulate\n",
    "\n",
    "def urun_ekle(sepet, urun, adet, birim_fiyat):\n",
    "    \"\"\"Ürün ekleme\"\"\"\n",
    "    toplam_fiyat = adet * birim_fiyat\n",
    "    sepet.append((urun, adet, birim_fiyat, toplam_fiyat))\n",
    "    print(f\"{urun} ({adet} adet) sepete eklendi. Toplam: {toplam_fiyat:.2f} TL\")\n",
    "\n",
    "def sepet_goruntule(sepet):\n",
    "    \"\"\"Sepetteki ürünleri listeleme ve toplam tutarı hesaplama\"\"\"\n",
    "    if not sepet:\n",
    "        print(\"Sepetiniz boş.\")\n",
    "        return\n",
    "    \n",
    "    toplam_tutar = sum(item[3] for item in sepet)\n",
    "    vergi = toplam_tutar * 0.08\n",
    "    odenecek_tutar = toplam_tutar + vergi\n",
    "    \n",
    "    tablo = [[urun, adet, f\"{birim_fiyat:.2f} TL\", f\"{toplam_fiyat:.2f} TL\"] for urun, adet, birim_fiyat, toplam_fiyat in sepet]\n",
    "    \n",
    "    print(\"\\nSepetiniz:\")\n",
    "    print(tabulate(tablo, headers=[\"Ürün\", \"Adet\", \"Birim Fiyat\", \"Toplam\"], tablefmt=\"grid\"))\n",
    "    print(tabulate([[\"Genel Toplam\", f\"{toplam_tutar:.2f} TL\"], [\"Vergi (%8)\", f\"{vergi:.2f} TL\"], [\"Ödenecek Tutar\", f\"{odenecek_tutar:.2f} TL\"]], headers=[\"Açıklama\", \"Tutar\"], tablefmt=\"grid\"))\n",
    "\n",
    "# Kullanım\n",
    "sepet = []\n",
    "while True:\n",
    "    urun = input(\"Ürün adını girin (çıkış için 'q'): \")\n",
    "    if urun.lower() == 'q':\n",
    "        break\n",
    "    adet = int(input(\"Ürün adedini girin: \"))\n",
    "    birim_fiyat = float(input(\"Birim fiyatını girin: \"))\n",
    "    urun_ekle(sepet, urun, adet, birim_fiyat)\n",
    "\n",
    "sepet_goruntule(sepet)\n"
   ]
  },
  {
   "cell_type": "code",
   "execution_count": 4,
   "id": "592e922d-2d6c-4f4a-ab71-594a61225875",
   "metadata": {},
   "outputs": [
    {
     "name": "stdin",
     "output_type": "stream",
     "text": [
      "Ürün adını girin (çıkış için 'q'):  çekirdek\n",
      "Ürün adedini girin:  2\n",
      "Birim fiyatını girin:  5\n"
     ]
    },
    {
     "name": "stdout",
     "output_type": "stream",
     "text": [
      "çekirdek (2 adet) sepete eklendi. Toplam: 10.00 TL\n"
     ]
    },
    {
     "name": "stdin",
     "output_type": "stream",
     "text": [
      "Ürün adını girin (çıkış için 'q'):  süt\n",
      "Ürün adedini girin:  4\n",
      "Birim fiyatını girin:  45\n"
     ]
    },
    {
     "name": "stdout",
     "output_type": "stream",
     "text": [
      "süt (4 adet) sepete eklendi. Toplam: 180.00 TL\n"
     ]
    },
    {
     "name": "stdin",
     "output_type": "stream",
     "text": [
      "Ürün adını girin (çıkış için 'q'):  soda\n",
      "Ürün adedini girin:  6\n",
      "Birim fiyatını girin:  14\n"
     ]
    },
    {
     "name": "stdout",
     "output_type": "stream",
     "text": [
      "soda (6 adet) sepete eklendi. Toplam: 84.00 TL\n"
     ]
    },
    {
     "name": "stdin",
     "output_type": "stream",
     "text": [
      "Ürün adını girin (çıkış için 'q'):  q\n"
     ]
    },
    {
     "name": "stdout",
     "output_type": "stream",
     "text": [
      "\n",
      "Sepetiniz:\n",
      "+----------+--------+---------------+-----------+\n",
      "| Ürün     |   Adet | Birim Fiyat   | Toplam    |\n",
      "+==========+========+===============+===========+\n",
      "| çekirdek |      2 | 5.00 TL       | 10.00 TL  |\n",
      "+----------+--------+---------------+-----------+\n",
      "| süt      |      4 | 45.00 TL      | 180.00 TL |\n",
      "+----------+--------+---------------+-----------+\n",
      "| soda     |      6 | 14.00 TL      | 84.00 TL  |\n",
      "+----------+--------+---------------+-----------+\n",
      "+----------------+-----------+\n",
      "| Açıklama       | Tutar     |\n",
      "+================+===========+\n",
      "| Genel Toplam   | 274.00 TL |\n",
      "+----------------+-----------+\n",
      "| Vergi (%8)     | 21.92 TL  |\n",
      "+----------------+-----------+\n",
      "| Ödenecek Tutar | 295.92 TL |\n",
      "+----------------+-----------+\n"
     ]
    }
   ],
   "source": [
    "# Kullanım\n",
    "sepet = []\n",
    "while True:\n",
    "    urun = input(\"Ürün adını girin (çıkış için 'q'): \")\n",
    "    if urun.lower() == 'q':\n",
    "        break\n",
    "    adet = int(input(\"Ürün adedini girin: \"))\n",
    "    birim_fiyat = float(input(\"Birim fiyatını girin: \"))\n",
    "    urun_ekle(sepet, urun, adet, birim_fiyat)\n",
    "\n",
    "sepet_goruntule(sepet)"
   ]
  },
  {
   "cell_type": "code",
   "execution_count": null,
   "id": "f3082263-af04-40d8-91bb-d1ed4f07dedd",
   "metadata": {},
   "outputs": [],
   "source": []
  }
 ],
 "metadata": {
  "kernelspec": {
   "display_name": "Python 3 (ipykernel)",
   "language": "python",
   "name": "python3"
  },
  "language_info": {
   "codemirror_mode": {
    "name": "ipython",
    "version": 3
   },
   "file_extension": ".py",
   "mimetype": "text/x-python",
   "name": "python",
   "nbconvert_exporter": "python",
   "pygments_lexer": "ipython3",
   "version": "3.10.9"
  }
 },
 "nbformat": 4,
 "nbformat_minor": 5
}
