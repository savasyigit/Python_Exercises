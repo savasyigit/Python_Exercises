{
 "cells": [
  {
   "cell_type": "markdown",
   "id": "076822f2-83b4-479a-943e-595d16247dd8",
   "metadata": {},
   "source": [
    "ÖRNEK 7: 1 ile verilen bir sayı arasındaki asal sayıları bulan kodu yazalım."
   ]
  },
  {
   "cell_type": "code",
   "execution_count": 3,
   "id": "e322d4a9-7088-49ba-8961-7a8ab2396a1c",
   "metadata": {},
   "outputs": [
    {
     "name": "stdin",
     "output_type": "stream",
     "text": [
      "Bir sayı girin:  100\n"
     ]
    },
    {
     "name": "stdout",
     "output_type": "stream",
     "text": [
      "1 ile 100 arasındaki asal sayılar: [2, 3, 5, 7, 11, 13, 17, 19, 23, 29, 31, 37, 41, 43, 47, 53, 59, 61, 67, 71, 73, 79, 83, 89, 97]\n"
     ]
    }
   ],
   "source": [
    "def asal_sayilari_bul(n):\n",
    "    asal_sayilar = []\n",
    "    for sayi in range(2, n + 1):\n",
    "        asal = True\n",
    "        for bolen in range(2, int(sayi ** 0.5) + 1):\n",
    "            if sayi % bolen == 0:\n",
    "                asal = False\n",
    "                break\n",
    "        if asal:\n",
    "            asal_sayilar.append(sayi)\n",
    "    return asal_sayilar\n",
    "\n",
    "# Kullanıcıdan giriş al\n",
    "sayi = int(input(\"Bir sayı girin: \"))\n",
    "\n",
    "# Asal sayıları bul ve ekrana yazdır\n",
    "sonuc = asal_sayilari_bul(sayi)\n",
    "print(f\"1 ile {sayi} arasındaki asal sayılar: {sonuc}\")\n"
   ]
  },
  {
   "cell_type": "code",
   "execution_count": 7,
   "id": "238d877a-b9dc-4260-9af9-d1ef54c32b88",
   "metadata": {},
   "outputs": [
    {
     "name": "stdin",
     "output_type": "stream",
     "text": [
      "Bir sayı girin:  600\n"
     ]
    },
    {
     "name": "stdout",
     "output_type": "stream",
     "text": [
      "1 ile 600 arasındaki asal sayılar: [2, 3, 5, 7, 11, 13, 17, 19, 23, 29, 31, 37, 41, 43, 47, 53, 59, 61, 67, 71, 73, 79, 83, 89, 97, 101, 103, 107, 109, 113, 127, 131, 137, 139, 149, 151, 157, 163, 167, 173, 179, 181, 191, 193, 197, 199, 211, 223, 227, 229, 233, 239, 241, 251, 257, 263, 269, 271, 277, 281, 283, 293, 307, 311, 313, 317, 331, 337, 347, 349, 353, 359, 367, 373, 379, 383, 389, 397, 401, 409, 419, 421, 431, 433, 439, 443, 449, 457, 461, 463, 467, 479, 487, 491, 499, 503, 509, 521, 523, 541, 547, 557, 563, 569, 571, 577, 587, 593, 599]\n"
     ]
    }
   ],
   "source": [
    "# Kullanıcıdan giriş al\n",
    "sayi = int(input(\"Bir sayı girin: \"))\n",
    "\n",
    "# Asal sayıları bul ve ekrana yazdır\n",
    "sonuc = asal_sayilari_bul(sayi)\n",
    "print(f\"1 ile {sayi} arasındaki asal sayılar: {sonuc}\")"
   ]
  },
  {
   "cell_type": "code",
   "execution_count": null,
   "id": "da068d5f-9be0-4daf-b2b3-13d674ecf0c7",
   "metadata": {},
   "outputs": [],
   "source": []
  }
 ],
 "metadata": {
  "kernelspec": {
   "display_name": "Python 3 (ipykernel)",
   "language": "python",
   "name": "python3"
  },
  "language_info": {
   "codemirror_mode": {
    "name": "ipython",
    "version": 3
   },
   "file_extension": ".py",
   "mimetype": "text/x-python",
   "name": "python",
   "nbconvert_exporter": "python",
   "pygments_lexer": "ipython3",
   "version": "3.10.9"
  }
 },
 "nbformat": 4,
 "nbformat_minor": 5
}
