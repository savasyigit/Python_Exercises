{
 "cells": [
  {
   "cell_type": "markdown",
   "id": "0a5349fe-c328-4699-a6e8-2a5762fd144c",
   "metadata": {},
   "source": [
    "ÖRNEK 9: Öğreci sınıf listesi hazırlayan kod"
   ]
  },
  {
   "cell_type": "code",
   "execution_count": 2,
   "id": "5f72e2be-336c-44a9-bc19-f70d8b179e43",
   "metadata": {},
   "outputs": [
    {
     "name": "stdin",
     "output_type": "stream",
     "text": [
      "Öğrencinin adını girin (Çıkmak için 'q' tuşuna basın):  Tunahan\n",
      "Öğrencinin soyadını girin:  Ekemen\n",
      "Öğrencinin numarasını girin:  101\n",
      "Öğrencinin adını girin (Çıkmak için 'q' tuşuna basın):  Furkan\n",
      "Öğrencinin soyadını girin:  Yıldız\n",
      "Öğrencinin numarasını girin:  102\n",
      "Öğrencinin adını girin (Çıkmak için 'q' tuşuna basın):  Esra \n",
      "Öğrencinin soyadını girin:  Öztürk\n",
      "Öğrencinin numarasını girin:  105\n",
      "Öğrencinin adını girin (Çıkmak için 'q' tuşuna basın):  Atahan\n",
      "Öğrencinin soyadını girin:  Yılmaz\n",
      "Öğrencinin numarasını girin:  106\n",
      "Öğrencinin adını girin (Çıkmak için 'q' tuşuna basın):  q\n"
     ]
    },
    {
     "name": "stdout",
     "output_type": "stream",
     "text": [
      "\n",
      "Öğrenci Listesi:\n",
      "+---------+-----------+----------+\n",
      "| İsim    | Soyisim   |   Numara |\n",
      "+=========+===========+==========+\n",
      "| Tunahan | Ekemen    |      101 |\n",
      "+---------+-----------+----------+\n",
      "| Furkan  | Yıldız    |      102 |\n",
      "+---------+-----------+----------+\n",
      "| Esra    | Öztürk    |      105 |\n",
      "+---------+-----------+----------+\n",
      "| Atahan  | Yılmaz    |      106 |\n",
      "+---------+-----------+----------+\n"
     ]
    }
   ],
   "source": [
    "from tabulate import tabulate\n",
    "\n",
    "def ogrenci_listesi_olustur():\n",
    "    ogrenci_listesi = []\n",
    "    \n",
    "    while True:\n",
    "        isim = input(\"Öğrencinin adını girin (Çıkmak için 'q' tuşuna basın): \")\n",
    "        if isim.lower() == 'q':\n",
    "            break\n",
    "        \n",
    "        soyisim = input(\"Öğrencinin soyadını girin: \")\n",
    "        numara = input(\"Öğrencinin numarasını girin: \")\n",
    "        \n",
    "        ogrenci_listesi.append([isim, soyisim, numara])\n",
    "    \n",
    "    return ogrenci_listesi\n",
    "\n",
    "# Öğrenci listesini oluştur\n",
    "ogrenciler = ogrenci_listesi_olustur()\n",
    "\n",
    "# Öğrenci listesini tablo şeklinde yazdır\n",
    "print(\"\\nÖğrenci Listesi:\")\n",
    "print(tabulate(ogrenciler, headers=[\"İsim\", \"Soyisim\", \"Numara\"], tablefmt=\"grid\"))\n"
   ]
  },
  {
   "cell_type": "code",
   "execution_count": null,
   "id": "d83b981f-3e7a-4799-b220-8baf1b812ae3",
   "metadata": {},
   "outputs": [],
   "source": []
  }
 ],
 "metadata": {
  "kernelspec": {
   "display_name": "Python 3 (ipykernel)",
   "language": "python",
   "name": "python3"
  },
  "language_info": {
   "codemirror_mode": {
    "name": "ipython",
    "version": 3
   },
   "file_extension": ".py",
   "mimetype": "text/x-python",
   "name": "python",
   "nbconvert_exporter": "python",
   "pygments_lexer": "ipython3",
   "version": "3.10.9"
  }
 },
 "nbformat": 4,
 "nbformat_minor": 5
}
